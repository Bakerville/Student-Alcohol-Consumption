{
 "cells": [
  {
   "cell_type": "markdown",
   "id": "3cd61bdd",
   "metadata": {},
   "source": [
    "# Student Alcohol Consumption"
   ]
  },
  {
   "cell_type": "markdown",
   "id": "a8372030",
   "metadata": {},
   "source": [
    "## Import Lib"
   ]
  },
  {
   "cell_type": "code",
   "execution_count": 1,
   "id": "f071c33b",
   "metadata": {},
   "outputs": [],
   "source": [
    "import pandas as pd\n",
    "import numpy as np\n",
    "import matplotlib.pyplot as plt\n",
    "import matplotlib\n",
    "import seaborn as sns\n",
    "sns.set()"
   ]
  },
  {
   "cell_type": "code",
   "execution_count": 2,
   "id": "a13beb8d",
   "metadata": {},
   "outputs": [
    {
     "name": "stdout",
     "output_type": "stream",
     "text": [
      "EDA.ipynb\n",
      "student-mat.csv\n"
     ]
    }
   ],
   "source": [
    "!ls"
   ]
  },
  {
   "cell_type": "markdown",
   "id": "e23dd7fb",
   "metadata": {
    "heading_collapsed": true
   },
   "source": [
    "## Read Dataset"
   ]
  },
  {
   "cell_type": "code",
   "execution_count": 3,
   "id": "cb15ad72",
   "metadata": {
    "hidden": true
   },
   "outputs": [
    {
     "data": {
      "text/html": [
       "<div>\n",
       "<style scoped>\n",
       "    .dataframe tbody tr th:only-of-type {\n",
       "        vertical-align: middle;\n",
       "    }\n",
       "\n",
       "    .dataframe tbody tr th {\n",
       "        vertical-align: top;\n",
       "    }\n",
       "\n",
       "    .dataframe thead th {\n",
       "        text-align: right;\n",
       "    }\n",
       "</style>\n",
       "<table border=\"1\" class=\"dataframe\">\n",
       "  <thead>\n",
       "    <tr style=\"text-align: right;\">\n",
       "      <th></th>\n",
       "      <th>school</th>\n",
       "      <th>sex</th>\n",
       "      <th>age</th>\n",
       "      <th>address</th>\n",
       "      <th>famsize</th>\n",
       "      <th>Pstatus</th>\n",
       "      <th>Medu</th>\n",
       "      <th>Fedu</th>\n",
       "      <th>Mjob</th>\n",
       "      <th>Fjob</th>\n",
       "      <th>...</th>\n",
       "      <th>famrel</th>\n",
       "      <th>freetime</th>\n",
       "      <th>goout</th>\n",
       "      <th>Dalc</th>\n",
       "      <th>Walc</th>\n",
       "      <th>health</th>\n",
       "      <th>absences</th>\n",
       "      <th>G1</th>\n",
       "      <th>G2</th>\n",
       "      <th>G3</th>\n",
       "    </tr>\n",
       "  </thead>\n",
       "  <tbody>\n",
       "    <tr>\n",
       "      <th>0</th>\n",
       "      <td>GP</td>\n",
       "      <td>F</td>\n",
       "      <td>18</td>\n",
       "      <td>U</td>\n",
       "      <td>GT3</td>\n",
       "      <td>A</td>\n",
       "      <td>4</td>\n",
       "      <td>4</td>\n",
       "      <td>at_home</td>\n",
       "      <td>teacher</td>\n",
       "      <td>...</td>\n",
       "      <td>4</td>\n",
       "      <td>3</td>\n",
       "      <td>4</td>\n",
       "      <td>1</td>\n",
       "      <td>1</td>\n",
       "      <td>3</td>\n",
       "      <td>6</td>\n",
       "      <td>5</td>\n",
       "      <td>6</td>\n",
       "      <td>6</td>\n",
       "    </tr>\n",
       "    <tr>\n",
       "      <th>1</th>\n",
       "      <td>GP</td>\n",
       "      <td>F</td>\n",
       "      <td>17</td>\n",
       "      <td>U</td>\n",
       "      <td>GT3</td>\n",
       "      <td>T</td>\n",
       "      <td>1</td>\n",
       "      <td>1</td>\n",
       "      <td>at_home</td>\n",
       "      <td>other</td>\n",
       "      <td>...</td>\n",
       "      <td>5</td>\n",
       "      <td>3</td>\n",
       "      <td>3</td>\n",
       "      <td>1</td>\n",
       "      <td>1</td>\n",
       "      <td>3</td>\n",
       "      <td>4</td>\n",
       "      <td>5</td>\n",
       "      <td>5</td>\n",
       "      <td>6</td>\n",
       "    </tr>\n",
       "    <tr>\n",
       "      <th>2</th>\n",
       "      <td>GP</td>\n",
       "      <td>F</td>\n",
       "      <td>15</td>\n",
       "      <td>U</td>\n",
       "      <td>LE3</td>\n",
       "      <td>T</td>\n",
       "      <td>1</td>\n",
       "      <td>1</td>\n",
       "      <td>at_home</td>\n",
       "      <td>other</td>\n",
       "      <td>...</td>\n",
       "      <td>4</td>\n",
       "      <td>3</td>\n",
       "      <td>2</td>\n",
       "      <td>2</td>\n",
       "      <td>3</td>\n",
       "      <td>3</td>\n",
       "      <td>10</td>\n",
       "      <td>7</td>\n",
       "      <td>8</td>\n",
       "      <td>10</td>\n",
       "    </tr>\n",
       "    <tr>\n",
       "      <th>3</th>\n",
       "      <td>GP</td>\n",
       "      <td>F</td>\n",
       "      <td>15</td>\n",
       "      <td>U</td>\n",
       "      <td>GT3</td>\n",
       "      <td>T</td>\n",
       "      <td>4</td>\n",
       "      <td>2</td>\n",
       "      <td>health</td>\n",
       "      <td>services</td>\n",
       "      <td>...</td>\n",
       "      <td>3</td>\n",
       "      <td>2</td>\n",
       "      <td>2</td>\n",
       "      <td>1</td>\n",
       "      <td>1</td>\n",
       "      <td>5</td>\n",
       "      <td>2</td>\n",
       "      <td>15</td>\n",
       "      <td>14</td>\n",
       "      <td>15</td>\n",
       "    </tr>\n",
       "    <tr>\n",
       "      <th>4</th>\n",
       "      <td>GP</td>\n",
       "      <td>F</td>\n",
       "      <td>16</td>\n",
       "      <td>U</td>\n",
       "      <td>GT3</td>\n",
       "      <td>T</td>\n",
       "      <td>3</td>\n",
       "      <td>3</td>\n",
       "      <td>other</td>\n",
       "      <td>other</td>\n",
       "      <td>...</td>\n",
       "      <td>4</td>\n",
       "      <td>3</td>\n",
       "      <td>2</td>\n",
       "      <td>1</td>\n",
       "      <td>2</td>\n",
       "      <td>5</td>\n",
       "      <td>4</td>\n",
       "      <td>6</td>\n",
       "      <td>10</td>\n",
       "      <td>10</td>\n",
       "    </tr>\n",
       "    <tr>\n",
       "      <th>...</th>\n",
       "      <td>...</td>\n",
       "      <td>...</td>\n",
       "      <td>...</td>\n",
       "      <td>...</td>\n",
       "      <td>...</td>\n",
       "      <td>...</td>\n",
       "      <td>...</td>\n",
       "      <td>...</td>\n",
       "      <td>...</td>\n",
       "      <td>...</td>\n",
       "      <td>...</td>\n",
       "      <td>...</td>\n",
       "      <td>...</td>\n",
       "      <td>...</td>\n",
       "      <td>...</td>\n",
       "      <td>...</td>\n",
       "      <td>...</td>\n",
       "      <td>...</td>\n",
       "      <td>...</td>\n",
       "      <td>...</td>\n",
       "      <td>...</td>\n",
       "    </tr>\n",
       "    <tr>\n",
       "      <th>390</th>\n",
       "      <td>MS</td>\n",
       "      <td>M</td>\n",
       "      <td>20</td>\n",
       "      <td>U</td>\n",
       "      <td>LE3</td>\n",
       "      <td>A</td>\n",
       "      <td>2</td>\n",
       "      <td>2</td>\n",
       "      <td>services</td>\n",
       "      <td>services</td>\n",
       "      <td>...</td>\n",
       "      <td>5</td>\n",
       "      <td>5</td>\n",
       "      <td>4</td>\n",
       "      <td>4</td>\n",
       "      <td>5</td>\n",
       "      <td>4</td>\n",
       "      <td>11</td>\n",
       "      <td>9</td>\n",
       "      <td>9</td>\n",
       "      <td>9</td>\n",
       "    </tr>\n",
       "    <tr>\n",
       "      <th>391</th>\n",
       "      <td>MS</td>\n",
       "      <td>M</td>\n",
       "      <td>17</td>\n",
       "      <td>U</td>\n",
       "      <td>LE3</td>\n",
       "      <td>T</td>\n",
       "      <td>3</td>\n",
       "      <td>1</td>\n",
       "      <td>services</td>\n",
       "      <td>services</td>\n",
       "      <td>...</td>\n",
       "      <td>2</td>\n",
       "      <td>4</td>\n",
       "      <td>5</td>\n",
       "      <td>3</td>\n",
       "      <td>4</td>\n",
       "      <td>2</td>\n",
       "      <td>3</td>\n",
       "      <td>14</td>\n",
       "      <td>16</td>\n",
       "      <td>16</td>\n",
       "    </tr>\n",
       "    <tr>\n",
       "      <th>392</th>\n",
       "      <td>MS</td>\n",
       "      <td>M</td>\n",
       "      <td>21</td>\n",
       "      <td>R</td>\n",
       "      <td>GT3</td>\n",
       "      <td>T</td>\n",
       "      <td>1</td>\n",
       "      <td>1</td>\n",
       "      <td>other</td>\n",
       "      <td>other</td>\n",
       "      <td>...</td>\n",
       "      <td>5</td>\n",
       "      <td>5</td>\n",
       "      <td>3</td>\n",
       "      <td>3</td>\n",
       "      <td>3</td>\n",
       "      <td>3</td>\n",
       "      <td>3</td>\n",
       "      <td>10</td>\n",
       "      <td>8</td>\n",
       "      <td>7</td>\n",
       "    </tr>\n",
       "    <tr>\n",
       "      <th>393</th>\n",
       "      <td>MS</td>\n",
       "      <td>M</td>\n",
       "      <td>18</td>\n",
       "      <td>R</td>\n",
       "      <td>LE3</td>\n",
       "      <td>T</td>\n",
       "      <td>3</td>\n",
       "      <td>2</td>\n",
       "      <td>services</td>\n",
       "      <td>other</td>\n",
       "      <td>...</td>\n",
       "      <td>4</td>\n",
       "      <td>4</td>\n",
       "      <td>1</td>\n",
       "      <td>3</td>\n",
       "      <td>4</td>\n",
       "      <td>5</td>\n",
       "      <td>0</td>\n",
       "      <td>11</td>\n",
       "      <td>12</td>\n",
       "      <td>10</td>\n",
       "    </tr>\n",
       "    <tr>\n",
       "      <th>394</th>\n",
       "      <td>MS</td>\n",
       "      <td>M</td>\n",
       "      <td>19</td>\n",
       "      <td>U</td>\n",
       "      <td>LE3</td>\n",
       "      <td>T</td>\n",
       "      <td>1</td>\n",
       "      <td>1</td>\n",
       "      <td>other</td>\n",
       "      <td>at_home</td>\n",
       "      <td>...</td>\n",
       "      <td>3</td>\n",
       "      <td>2</td>\n",
       "      <td>3</td>\n",
       "      <td>3</td>\n",
       "      <td>3</td>\n",
       "      <td>5</td>\n",
       "      <td>5</td>\n",
       "      <td>8</td>\n",
       "      <td>9</td>\n",
       "      <td>9</td>\n",
       "    </tr>\n",
       "  </tbody>\n",
       "</table>\n",
       "<p>395 rows × 33 columns</p>\n",
       "</div>"
      ],
      "text/plain": [
       "    school sex  age address famsize Pstatus  Medu  Fedu      Mjob      Fjob  \\\n",
       "0       GP   F   18       U     GT3       A     4     4   at_home   teacher   \n",
       "1       GP   F   17       U     GT3       T     1     1   at_home     other   \n",
       "2       GP   F   15       U     LE3       T     1     1   at_home     other   \n",
       "3       GP   F   15       U     GT3       T     4     2    health  services   \n",
       "4       GP   F   16       U     GT3       T     3     3     other     other   \n",
       "..     ...  ..  ...     ...     ...     ...   ...   ...       ...       ...   \n",
       "390     MS   M   20       U     LE3       A     2     2  services  services   \n",
       "391     MS   M   17       U     LE3       T     3     1  services  services   \n",
       "392     MS   M   21       R     GT3       T     1     1     other     other   \n",
       "393     MS   M   18       R     LE3       T     3     2  services     other   \n",
       "394     MS   M   19       U     LE3       T     1     1     other   at_home   \n",
       "\n",
       "     ... famrel freetime  goout  Dalc  Walc health absences  G1  G2  G3  \n",
       "0    ...      4        3      4     1     1      3        6   5   6   6  \n",
       "1    ...      5        3      3     1     1      3        4   5   5   6  \n",
       "2    ...      4        3      2     2     3      3       10   7   8  10  \n",
       "3    ...      3        2      2     1     1      5        2  15  14  15  \n",
       "4    ...      4        3      2     1     2      5        4   6  10  10  \n",
       "..   ...    ...      ...    ...   ...   ...    ...      ...  ..  ..  ..  \n",
       "390  ...      5        5      4     4     5      4       11   9   9   9  \n",
       "391  ...      2        4      5     3     4      2        3  14  16  16  \n",
       "392  ...      5        5      3     3     3      3        3  10   8   7  \n",
       "393  ...      4        4      1     3     4      5        0  11  12  10  \n",
       "394  ...      3        2      3     3     3      5        5   8   9   9  \n",
       "\n",
       "[395 rows x 33 columns]"
      ]
     },
     "execution_count": 3,
     "metadata": {},
     "output_type": "execute_result"
    }
   ],
   "source": [
    "data = pd.read_csv(\"student-mat.csv\")\n",
    "data"
   ]
  },
  {
   "cell_type": "code",
   "execution_count": 4,
   "id": "852e6475",
   "metadata": {
    "hidden": true,
    "scrolled": true
   },
   "outputs": [
    {
     "data": {
      "text/html": [
       "<div>\n",
       "<style scoped>\n",
       "    .dataframe tbody tr th:only-of-type {\n",
       "        vertical-align: middle;\n",
       "    }\n",
       "\n",
       "    .dataframe tbody tr th {\n",
       "        vertical-align: top;\n",
       "    }\n",
       "\n",
       "    .dataframe thead th {\n",
       "        text-align: right;\n",
       "    }\n",
       "</style>\n",
       "<table border=\"1\" class=\"dataframe\">\n",
       "  <thead>\n",
       "    <tr style=\"text-align: right;\">\n",
       "      <th></th>\n",
       "      <th>school</th>\n",
       "      <th>sex</th>\n",
       "      <th>age</th>\n",
       "      <th>address</th>\n",
       "      <th>famsize</th>\n",
       "      <th>Pstatus</th>\n",
       "      <th>Medu</th>\n",
       "      <th>Fedu</th>\n",
       "      <th>Mjob</th>\n",
       "      <th>Fjob</th>\n",
       "      <th>...</th>\n",
       "      <th>famrel</th>\n",
       "      <th>freetime</th>\n",
       "      <th>goout</th>\n",
       "      <th>Dalc</th>\n",
       "      <th>Walc</th>\n",
       "      <th>health</th>\n",
       "      <th>absences</th>\n",
       "      <th>G1</th>\n",
       "      <th>G2</th>\n",
       "      <th>G3</th>\n",
       "    </tr>\n",
       "  </thead>\n",
       "  <tbody>\n",
       "    <tr>\n",
       "      <th>0</th>\n",
       "      <td>GP</td>\n",
       "      <td>F</td>\n",
       "      <td>18</td>\n",
       "      <td>U</td>\n",
       "      <td>GT3</td>\n",
       "      <td>A</td>\n",
       "      <td>4</td>\n",
       "      <td>4</td>\n",
       "      <td>at_home</td>\n",
       "      <td>teacher</td>\n",
       "      <td>...</td>\n",
       "      <td>4</td>\n",
       "      <td>3</td>\n",
       "      <td>4</td>\n",
       "      <td>1</td>\n",
       "      <td>1</td>\n",
       "      <td>3</td>\n",
       "      <td>6</td>\n",
       "      <td>5</td>\n",
       "      <td>6</td>\n",
       "      <td>6</td>\n",
       "    </tr>\n",
       "    <tr>\n",
       "      <th>1</th>\n",
       "      <td>GP</td>\n",
       "      <td>F</td>\n",
       "      <td>17</td>\n",
       "      <td>U</td>\n",
       "      <td>GT3</td>\n",
       "      <td>T</td>\n",
       "      <td>1</td>\n",
       "      <td>1</td>\n",
       "      <td>at_home</td>\n",
       "      <td>other</td>\n",
       "      <td>...</td>\n",
       "      <td>5</td>\n",
       "      <td>3</td>\n",
       "      <td>3</td>\n",
       "      <td>1</td>\n",
       "      <td>1</td>\n",
       "      <td>3</td>\n",
       "      <td>4</td>\n",
       "      <td>5</td>\n",
       "      <td>5</td>\n",
       "      <td>6</td>\n",
       "    </tr>\n",
       "    <tr>\n",
       "      <th>2</th>\n",
       "      <td>GP</td>\n",
       "      <td>F</td>\n",
       "      <td>15</td>\n",
       "      <td>U</td>\n",
       "      <td>LE3</td>\n",
       "      <td>T</td>\n",
       "      <td>1</td>\n",
       "      <td>1</td>\n",
       "      <td>at_home</td>\n",
       "      <td>other</td>\n",
       "      <td>...</td>\n",
       "      <td>4</td>\n",
       "      <td>3</td>\n",
       "      <td>2</td>\n",
       "      <td>2</td>\n",
       "      <td>3</td>\n",
       "      <td>3</td>\n",
       "      <td>10</td>\n",
       "      <td>7</td>\n",
       "      <td>8</td>\n",
       "      <td>10</td>\n",
       "    </tr>\n",
       "    <tr>\n",
       "      <th>3</th>\n",
       "      <td>GP</td>\n",
       "      <td>F</td>\n",
       "      <td>15</td>\n",
       "      <td>U</td>\n",
       "      <td>GT3</td>\n",
       "      <td>T</td>\n",
       "      <td>4</td>\n",
       "      <td>2</td>\n",
       "      <td>health</td>\n",
       "      <td>services</td>\n",
       "      <td>...</td>\n",
       "      <td>3</td>\n",
       "      <td>2</td>\n",
       "      <td>2</td>\n",
       "      <td>1</td>\n",
       "      <td>1</td>\n",
       "      <td>5</td>\n",
       "      <td>2</td>\n",
       "      <td>15</td>\n",
       "      <td>14</td>\n",
       "      <td>15</td>\n",
       "    </tr>\n",
       "    <tr>\n",
       "      <th>4</th>\n",
       "      <td>GP</td>\n",
       "      <td>F</td>\n",
       "      <td>16</td>\n",
       "      <td>U</td>\n",
       "      <td>GT3</td>\n",
       "      <td>T</td>\n",
       "      <td>3</td>\n",
       "      <td>3</td>\n",
       "      <td>other</td>\n",
       "      <td>other</td>\n",
       "      <td>...</td>\n",
       "      <td>4</td>\n",
       "      <td>3</td>\n",
       "      <td>2</td>\n",
       "      <td>1</td>\n",
       "      <td>2</td>\n",
       "      <td>5</td>\n",
       "      <td>4</td>\n",
       "      <td>6</td>\n",
       "      <td>10</td>\n",
       "      <td>10</td>\n",
       "    </tr>\n",
       "  </tbody>\n",
       "</table>\n",
       "<p>5 rows × 33 columns</p>\n",
       "</div>"
      ],
      "text/plain": [
       "  school sex  age address famsize Pstatus  Medu  Fedu     Mjob      Fjob  ...  \\\n",
       "0     GP   F   18       U     GT3       A     4     4  at_home   teacher  ...   \n",
       "1     GP   F   17       U     GT3       T     1     1  at_home     other  ...   \n",
       "2     GP   F   15       U     LE3       T     1     1  at_home     other  ...   \n",
       "3     GP   F   15       U     GT3       T     4     2   health  services  ...   \n",
       "4     GP   F   16       U     GT3       T     3     3    other     other  ...   \n",
       "\n",
       "  famrel freetime  goout  Dalc  Walc health absences  G1  G2  G3  \n",
       "0      4        3      4     1     1      3        6   5   6   6  \n",
       "1      5        3      3     1     1      3        4   5   5   6  \n",
       "2      4        3      2     2     3      3       10   7   8  10  \n",
       "3      3        2      2     1     1      5        2  15  14  15  \n",
       "4      4        3      2     1     2      5        4   6  10  10  \n",
       "\n",
       "[5 rows x 33 columns]"
      ]
     },
     "execution_count": 4,
     "metadata": {},
     "output_type": "execute_result"
    }
   ],
   "source": [
    "data.head()"
   ]
  },
  {
   "cell_type": "markdown",
   "id": "0faa10d4",
   "metadata": {
    "heading_collapsed": true
   },
   "source": [
    "## Ý nghĩa của các cột dữ liệu"
   ]
  },
  {
   "cell_type": "markdown",
   "id": "75b56357",
   "metadata": {
    "hidden": true
   },
   "source": [
    "- **school**: trường học\n",
    "- **sex**: giới tính\n",
    "- **age**: tuổi\n",
    "- **address**: địa chỉ nhà (gồm 'U': urban và 'R': rural)\n",
    "- **famsize**: số lượng thành viên trong gia đình ('LE3'- nhỏ hơn 3 và 'GT3'- lớn hơn 3)\n",
    "- **Pstatus**: tình trạng sống với gia đình ('T' - sống cùng, 'A' - sống xa)\n",
    "- **Medu**: trình độ học vấn của mẹ (numeric: 0 - none, 1 - primary education (4th grade), 2 – 5th to 9th grade, 3 – secondary education or 4 – higher education)\n",
    "- **Fedu - father's education** (numeric: 0 - none, 1 - primary education (4th grade), 2 – 5th to 9th grade, 3 – secondary education or 4 – higher education)\n",
    "- **Mjob - mother's job** (nominal: 'teacher', 'health' care related, civil 'services' (e.g. administrative or police), 'at_home' or 'other')\n",
    "- **Fjob - father's job** (nominal: 'teacher', 'health' care related, civil 'services' (e.g. administrative or police), 'at_home' or 'other')\n",
    "- **reason - reason to choose this school** (nominal: close to 'home', school 'reputation', 'course' preference or 'other')\n",
    "- **guardian - student's guardian** (nominal: 'mother', 'father' or 'other')\n",
    "- **traveltime - home to school travel time**: (numeric: 1 - <15 min., 2 - 15 to 30 min., 3 - 30 min. to 1 hour, or 4 - >1 hour)\n",
    "- **studytime - weekly study time**: (numeric: 1 - <2 hours, 2 - 2 to 5 hours, 3 - 5 to 10 hours, or 4 - >10 hours)\n",
    "- **failures - number of past class failures**: (numeric: n if 1<=n<3, else 4)\n",
    "- **schoolsup - extra educational support**: (binary: yes or no)\n",
    "- **famsup - family educational support**: (binary: yes or no)\n",
    "- **paid - extra paid classes within the course subject**: (Math or Portuguese) (binary: yes or no)\n",
    "- **activities - extra-curricular activities** (binary: yes or no)\n",
    "- **nursery - attended nursery school**: (binary: yes or no)\n",
    "- **higher - wants to take higher education**: (binary: yes or no)\n",
    "- **internet - Internet access at home**: (binary: yes or no)\n",
    "- **romantic - with a romantic relationship**: (binary: yes or no)\n",
    "- **famrel - quality of family relationships**: (numeric: from 1 - very bad to 5 - excellent)\n",
    "- **freetime - free time after school**: (numeric: from 1 - very low to 5 - very high)\n",
    "- **goout - going out with friends**: (numeric: from 1 - very low to 5 - very high)\n",
    "- **Dalc - workday alcohol consumption**: (numeric: from 1 - very low to 5 - very high)\n",
    "- **Walc - weekend alcohol consumption**: (numeric: from 1 - very low to 5 - very high)\n",
    "- **health - current health status**: (numeric: from 1 - very bad to 5 - very good)\n",
    "- **absences - number of school absences**: (numeric: from 0 to 93)\n",
    "- **G1 - first period grade**: (numeric: from 0 to 20)\n",
    "- **G2 - second period grade**: (numeric: from 0 to 20)\n",
    "- **G3 - final grade**: (numeric: from 0 to 20, output target)"
   ]
  },
  {
   "cell_type": "markdown",
   "id": "daeb2030",
   "metadata": {
    "heading_collapsed": true
   },
   "source": [
    "## Kiểm tra thông tin dòng cột dữ liệu"
   ]
  },
  {
   "cell_type": "code",
   "execution_count": 5,
   "id": "5e2a02f5",
   "metadata": {
    "hidden": true
   },
   "outputs": [
    {
     "name": "stdout",
     "output_type": "stream",
     "text": [
      "So dong:  395\n",
      "So cot:  33\n"
     ]
    }
   ],
   "source": [
    "# Kich thuoc du lieu\n",
    "print(\"So dong: \", data.shape[0])\n",
    "print(\"So cot: \", data.shape[1])"
   ]
  },
  {
   "cell_type": "code",
   "execution_count": 6,
   "id": "90d21a4f",
   "metadata": {
    "hidden": true
   },
   "outputs": [
    {
     "data": {
      "text/plain": [
       "school        object\n",
       "sex           object\n",
       "age            int64\n",
       "address       object\n",
       "famsize       object\n",
       "Pstatus       object\n",
       "Medu           int64\n",
       "Fedu           int64\n",
       "Mjob          object\n",
       "Fjob          object\n",
       "reason        object\n",
       "guardian      object\n",
       "traveltime     int64\n",
       "studytime      int64\n",
       "failures       int64\n",
       "schoolsup     object\n",
       "famsup        object\n",
       "paid          object\n",
       "activities    object\n",
       "nursery       object\n",
       "higher        object\n",
       "internet      object\n",
       "romantic      object\n",
       "famrel         int64\n",
       "freetime       int64\n",
       "goout          int64\n",
       "Dalc           int64\n",
       "Walc           int64\n",
       "health         int64\n",
       "absences       int64\n",
       "G1             int64\n",
       "G2             int64\n",
       "G3             int64\n",
       "dtype: object"
      ]
     },
     "execution_count": 6,
     "metadata": {},
     "output_type": "execute_result"
    }
   ],
   "source": [
    "# Kiem tra kieu du lieu\n",
    "data.dtypes"
   ]
  },
  {
   "cell_type": "code",
   "execution_count": 7,
   "id": "62adb394",
   "metadata": {
    "hidden": true
   },
   "outputs": [],
   "source": [
    "data[\"number_day_alcohol\"] = data[\"Dalc\"] + data[\"Walc\"]"
   ]
  },
  {
   "cell_type": "code",
   "execution_count": 8,
   "id": "573047ce",
   "metadata": {
    "hidden": true
   },
   "outputs": [],
   "source": [
    "# loc ra cac thuoc tinh numerical va categorical\n",
    "numerical_data = [name for name in data.columns if data[name].dtype in ['int64']]\n",
    "categorical_data = [name for name in data.columns if data[name].dtype in ['object']]"
   ]
  },
  {
   "cell_type": "code",
   "execution_count": 9,
   "id": "7ba53c08",
   "metadata": {
    "hidden": true
   },
   "outputs": [
    {
     "name": "stdout",
     "output_type": "stream",
     "text": [
      "Number of categorical data:  17\n",
      "Number of categorical data:  17\n"
     ]
    }
   ],
   "source": [
    "print(\"Number of categorical data: \", len(categorical_data))\n",
    "print(\"Number of categorical data: \", len(numerical_data))"
   ]
  },
  {
   "cell_type": "markdown",
   "id": "df1cae88",
   "metadata": {
    "heading_collapsed": true
   },
   "source": [
    "## Thông kê mô tả"
   ]
  },
  {
   "cell_type": "markdown",
   "id": "a8507e0a",
   "metadata": {
    "hidden": true
   },
   "source": [
    "### Thống kê cho dữ liệu số"
   ]
  },
  {
   "cell_type": "code",
   "execution_count": 10,
   "id": "7fac41f4",
   "metadata": {
    "hidden": true
   },
   "outputs": [],
   "source": [
    "nume_df = data[numerical_data]\n",
    "\n",
    "missing = nume_df.isna().sum()/len(nume_df)\n",
    "mean_sr = nume_df.mean()\n",
    "mode_sr = nume_df.apply(lambda x: x.mode()[0])\n",
    "var_sr = nume_df.var()\n",
    "std_sr = nume_df.std()\n",
    "\n",
    "\n",
    "statistic = {\"missing_percentage\":missing,\"mean\": mean_sr, \"mode\": mode_sr, \"variance\": var_sr, \"std\": std_sr}\n",
    "\n",
    "statistic_df = np.round(pd.DataFrame(statistic),4)\n"
   ]
  },
  {
   "cell_type": "code",
   "execution_count": 11,
   "id": "4bed9221",
   "metadata": {
    "hidden": true
   },
   "outputs": [
    {
     "data": {
      "text/html": [
       "<div>\n",
       "<style scoped>\n",
       "    .dataframe tbody tr th:only-of-type {\n",
       "        vertical-align: middle;\n",
       "    }\n",
       "\n",
       "    .dataframe tbody tr th {\n",
       "        vertical-align: top;\n",
       "    }\n",
       "\n",
       "    .dataframe thead th {\n",
       "        text-align: right;\n",
       "    }\n",
       "</style>\n",
       "<table border=\"1\" class=\"dataframe\">\n",
       "  <thead>\n",
       "    <tr style=\"text-align: right;\">\n",
       "      <th></th>\n",
       "      <th>missing_percentage</th>\n",
       "      <th>mean</th>\n",
       "      <th>mode</th>\n",
       "      <th>variance</th>\n",
       "      <th>std</th>\n",
       "    </tr>\n",
       "  </thead>\n",
       "  <tbody>\n",
       "    <tr>\n",
       "      <th>age</th>\n",
       "      <td>0.0</td>\n",
       "      <td>16.6962</td>\n",
       "      <td>16</td>\n",
       "      <td>1.6283</td>\n",
       "      <td>1.2760</td>\n",
       "    </tr>\n",
       "    <tr>\n",
       "      <th>Medu</th>\n",
       "      <td>0.0</td>\n",
       "      <td>2.7494</td>\n",
       "      <td>4</td>\n",
       "      <td>1.1984</td>\n",
       "      <td>1.0947</td>\n",
       "    </tr>\n",
       "    <tr>\n",
       "      <th>Fedu</th>\n",
       "      <td>0.0</td>\n",
       "      <td>2.5215</td>\n",
       "      <td>2</td>\n",
       "      <td>1.1842</td>\n",
       "      <td>1.0882</td>\n",
       "    </tr>\n",
       "    <tr>\n",
       "      <th>traveltime</th>\n",
       "      <td>0.0</td>\n",
       "      <td>1.4481</td>\n",
       "      <td>1</td>\n",
       "      <td>0.4865</td>\n",
       "      <td>0.6975</td>\n",
       "    </tr>\n",
       "    <tr>\n",
       "      <th>studytime</th>\n",
       "      <td>0.0</td>\n",
       "      <td>2.0354</td>\n",
       "      <td>2</td>\n",
       "      <td>0.7043</td>\n",
       "      <td>0.8392</td>\n",
       "    </tr>\n",
       "    <tr>\n",
       "      <th>failures</th>\n",
       "      <td>0.0</td>\n",
       "      <td>0.3342</td>\n",
       "      <td>0</td>\n",
       "      <td>0.5530</td>\n",
       "      <td>0.7437</td>\n",
       "    </tr>\n",
       "    <tr>\n",
       "      <th>famrel</th>\n",
       "      <td>0.0</td>\n",
       "      <td>3.9443</td>\n",
       "      <td>4</td>\n",
       "      <td>0.8040</td>\n",
       "      <td>0.8967</td>\n",
       "    </tr>\n",
       "    <tr>\n",
       "      <th>freetime</th>\n",
       "      <td>0.0</td>\n",
       "      <td>3.2354</td>\n",
       "      <td>3</td>\n",
       "      <td>0.9977</td>\n",
       "      <td>0.9989</td>\n",
       "    </tr>\n",
       "    <tr>\n",
       "      <th>goout</th>\n",
       "      <td>0.0</td>\n",
       "      <td>3.1089</td>\n",
       "      <td>3</td>\n",
       "      <td>1.2394</td>\n",
       "      <td>1.1133</td>\n",
       "    </tr>\n",
       "    <tr>\n",
       "      <th>Dalc</th>\n",
       "      <td>0.0</td>\n",
       "      <td>1.4810</td>\n",
       "      <td>1</td>\n",
       "      <td>0.7934</td>\n",
       "      <td>0.8907</td>\n",
       "    </tr>\n",
       "    <tr>\n",
       "      <th>Walc</th>\n",
       "      <td>0.0</td>\n",
       "      <td>2.2911</td>\n",
       "      <td>1</td>\n",
       "      <td>1.6587</td>\n",
       "      <td>1.2879</td>\n",
       "    </tr>\n",
       "    <tr>\n",
       "      <th>health</th>\n",
       "      <td>0.0</td>\n",
       "      <td>3.5544</td>\n",
       "      <td>5</td>\n",
       "      <td>1.9329</td>\n",
       "      <td>1.3903</td>\n",
       "    </tr>\n",
       "    <tr>\n",
       "      <th>absences</th>\n",
       "      <td>0.0</td>\n",
       "      <td>5.7089</td>\n",
       "      <td>0</td>\n",
       "      <td>64.0495</td>\n",
       "      <td>8.0031</td>\n",
       "    </tr>\n",
       "    <tr>\n",
       "      <th>G1</th>\n",
       "      <td>0.0</td>\n",
       "      <td>10.9089</td>\n",
       "      <td>10</td>\n",
       "      <td>11.0171</td>\n",
       "      <td>3.3192</td>\n",
       "    </tr>\n",
       "    <tr>\n",
       "      <th>G2</th>\n",
       "      <td>0.0</td>\n",
       "      <td>10.7139</td>\n",
       "      <td>9</td>\n",
       "      <td>14.1489</td>\n",
       "      <td>3.7615</td>\n",
       "    </tr>\n",
       "    <tr>\n",
       "      <th>G3</th>\n",
       "      <td>0.0</td>\n",
       "      <td>10.4152</td>\n",
       "      <td>10</td>\n",
       "      <td>20.9896</td>\n",
       "      <td>4.5814</td>\n",
       "    </tr>\n",
       "    <tr>\n",
       "      <th>number_day_alcohol</th>\n",
       "      <td>0.0</td>\n",
       "      <td>3.7722</td>\n",
       "      <td>2</td>\n",
       "      <td>3.9378</td>\n",
       "      <td>1.9844</td>\n",
       "    </tr>\n",
       "  </tbody>\n",
       "</table>\n",
       "</div>"
      ],
      "text/plain": [
       "                    missing_percentage     mean  mode  variance     std\n",
       "age                                0.0  16.6962    16    1.6283  1.2760\n",
       "Medu                               0.0   2.7494     4    1.1984  1.0947\n",
       "Fedu                               0.0   2.5215     2    1.1842  1.0882\n",
       "traveltime                         0.0   1.4481     1    0.4865  0.6975\n",
       "studytime                          0.0   2.0354     2    0.7043  0.8392\n",
       "failures                           0.0   0.3342     0    0.5530  0.7437\n",
       "famrel                             0.0   3.9443     4    0.8040  0.8967\n",
       "freetime                           0.0   3.2354     3    0.9977  0.9989\n",
       "goout                              0.0   3.1089     3    1.2394  1.1133\n",
       "Dalc                               0.0   1.4810     1    0.7934  0.8907\n",
       "Walc                               0.0   2.2911     1    1.6587  1.2879\n",
       "health                             0.0   3.5544     5    1.9329  1.3903\n",
       "absences                           0.0   5.7089     0   64.0495  8.0031\n",
       "G1                                 0.0  10.9089    10   11.0171  3.3192\n",
       "G2                                 0.0  10.7139     9   14.1489  3.7615\n",
       "G3                                 0.0  10.4152    10   20.9896  4.5814\n",
       "number_day_alcohol                 0.0   3.7722     2    3.9378  1.9844"
      ]
     },
     "execution_count": 11,
     "metadata": {},
     "output_type": "execute_result"
    }
   ],
   "source": [
    "statistic_df"
   ]
  },
  {
   "cell_type": "markdown",
   "id": "55ec65dc",
   "metadata": {
    "hidden": true
   },
   "source": [
    "### Thống kê cho dữ liệu Category"
   ]
  },
  {
   "cell_type": "code",
   "execution_count": null,
   "id": "f1344eea",
   "metadata": {
    "hidden": true
   },
   "outputs": [],
   "source": [
    "data[categorical_data].describe().T"
   ]
  },
  {
   "cell_type": "markdown",
   "id": "afe97622",
   "metadata": {
    "hidden": true
   },
   "source": [
    "### Thống kê đối với từng nhóm mức độ sử dụng cồn"
   ]
  },
  {
   "cell_type": "code",
   "execution_count": null,
   "id": "723546f6",
   "metadata": {
    "hidden": true
   },
   "outputs": [],
   "source": [
    "# Trung binh\n",
    "nume_df.groupby([\"number_day_alcohol\"]).mean()"
   ]
  },
  {
   "cell_type": "code",
   "execution_count": null,
   "id": "2f13456b",
   "metadata": {
    "hidden": true
   },
   "outputs": [],
   "source": [
    "# Phuong sai\n",
    "nume_df.groupby([\"number_day_alcohol\"]).var()"
   ]
  },
  {
   "cell_type": "code",
   "execution_count": null,
   "id": "d494fe0f",
   "metadata": {
    "hidden": true
   },
   "outputs": [],
   "source": [
    "# Do lech chuan\n",
    "nume_df.groupby([\"number_day_alcohol\"]).std()"
   ]
  },
  {
   "cell_type": "markdown",
   "id": "97611402",
   "metadata": {
    "heading_collapsed": true
   },
   "source": [
    "## Trực quan dữ liệu Categorical"
   ]
  },
  {
   "cell_type": "code",
   "execution_count": null,
   "id": "9738629e",
   "metadata": {
    "hidden": true,
    "scrolled": false
   },
   "outputs": [],
   "source": [
    "fig, axes = plt.subplots(5,4, figsize=(20,30))\n",
    "count = 0\n",
    "for i in range(5):\n",
    "    for j in range(4):\n",
    "        if(count< len(categorical_data)):\n",
    "            data[categorical_data[count]].value_counts().plot.bar(ax=axes[i][j])\n",
    "            axes[i][j].set_xticklabels(axes[i][j].get_xticklabels(), rotation=360, ha='center', fontsize=15)\n",
    "            axes[i][j].set_title(categorical_data[count], fontsize =15)\n",
    "        count = count+1\n",
    "fig.delaxes(axes[4][1])\n",
    "fig.delaxes(axes[4][2])\n",
    "fig.delaxes(axes[4][3])\n",
    "fig.tight_layout(pad=2.0)"
   ]
  },
  {
   "cell_type": "markdown",
   "id": "5394f579",
   "metadata": {
    "heading_collapsed": true
   },
   "source": [
    "## Trực quan cho dữ liệu Numerical"
   ]
  },
  {
   "cell_type": "code",
   "execution_count": null,
   "id": "58f8cad1",
   "metadata": {
    "hidden": true
   },
   "outputs": [],
   "source": [
    "nume_df = data[numerical_data]\n",
    "nume_df"
   ]
  },
  {
   "cell_type": "code",
   "execution_count": null,
   "id": "db2e5e78",
   "metadata": {
    "hidden": true
   },
   "outputs": [],
   "source": [
    "data.boxplot(figsize = (20,10), color=\"Blue\")\n",
    "plt.xticks(fontsize=12)\n",
    "plt.show()"
   ]
  },
  {
   "cell_type": "code",
   "execution_count": null,
   "id": "85785546",
   "metadata": {
    "hidden": true,
    "scrolled": false
   },
   "outputs": [],
   "source": [
    "import warnings\n",
    "warnings.filterwarnings('ignore')\n",
    "\n",
    "fig, axes = plt.subplots(ncols=4, nrows=5, figsize=(20,25))\n",
    "\n",
    "\n",
    "for i, ax in zip(range(17), axes.flat):\n",
    "    sns.distplot(data[numerical_data[i]], hist=True, ax=ax, color=\"Blue\")\n",
    "    ax.tick_params(axis='both', which='major', labelsize=15)\n",
    "    ax.set_title(numerical_data[i], color=\"red\", fontsize=14)\n",
    "fig.delaxes(axes[4][1])\n",
    "fig.delaxes(axes[4][2])\n",
    "fig.delaxes(axes[4][3])\n",
    "plt.tight_layout(pad=1)\n",
    "plt.show()"
   ]
  },
  {
   "cell_type": "markdown",
   "id": "7caa3c79",
   "metadata": {},
   "source": [
    "## EDA"
   ]
  },
  {
   "cell_type": "code",
   "execution_count": null,
   "id": "06a8ba2c",
   "metadata": {
    "scrolled": false
   },
   "outputs": [],
   "source": [
    "number_student_walc = data.groupby([\"Walc\"]).agg(['count'])['school'].reset_index()\n",
    "\n",
    "plt.figure(figsize=(8,5))\n",
    "\n",
    "plt.bar(number_student_walc[\"Walc\"], number_student_walc['count'], color=sns.color_palette())\n",
    "\n",
    "plt.xticks([1,2,3,4,5],[\" very low\", \"low\", \"medium\", \"high\", \"very high\"])\n",
    "\n",
    "plt.xlabel(\"Level\")\n",
    "\n",
    "plt.ylabel(\"Number of students\")\n",
    "\n",
    "plt.title(\"Number of students using alcohol each level in the weekend\", fontdict={'size':15})\n",
    "\n",
    "plt.show()"
   ]
  },
  {
   "cell_type": "code",
   "execution_count": null,
   "id": "c107e04c",
   "metadata": {
    "scrolled": false
   },
   "outputs": [],
   "source": [
    "number_student_dalc = data.groupby([\"Dalc\"]).agg(['count'])['school'].reset_index()\n",
    "\n",
    "plt.figure(figsize=(8,5))\n",
    "\n",
    "plt.bar(number_student_dalc[\"Dalc\"], number_student_walc['count'], color=sns.color_palette())\n",
    "\n",
    "plt.xticks([1,2,3,4,5],[\" very low\", \"low\", \"medium\", \"high\", \"very high\"])\n",
    "\n",
    "plt.xlabel(\"Level\")\n",
    "\n",
    "plt.ylabel(\"Number of students\")\n",
    "\n",
    "plt.title(\"Number of students using alcohol each level in workday\", fontdict={'size':15})\n",
    "\n",
    "plt.show()"
   ]
  },
  {
   "cell_type": "code",
   "execution_count": null,
   "id": "5360c112",
   "metadata": {},
   "outputs": [],
   "source": [
    "number_student_alcohol = data.groupby([\"number_day_alcohol\"]).agg(['count'])['school'].reset_index()\n",
    "\n",
    "plt.figure(figsize=(8,5))\n",
    "\n",
    "plt.bar(number_student_alcohol[\"number_day_alcohol\"], number_student_alcohol['count'], color=sns.color_palette())\n",
    "\n",
    "plt.xlabel(\"Level\")\n",
    "\n",
    "plt.xticks([2,3,4,5,6,7,8,9,10])\n",
    "\n",
    "plt.ylabel(\"Number of students\")\n",
    "\n",
    "plt.title(\"Number of students using alcohol each level in a week\", fontdict={'size':15})\n",
    "\n",
    "plt.show()"
   ]
  },
  {
   "cell_type": "code",
   "execution_count": null,
   "id": "d791bf5c",
   "metadata": {},
   "outputs": [],
   "source": [
    "def make_autopct(values):\n",
    "    def my_autopct(pct):\n",
    "        total = sum(values)\n",
    "        val = int(round(pct*total/100.0))\n",
    "        return '{p:.2f}%'.format(p=pct,v=val)\n",
    "    return my_autopct\n",
    "\n",
    "plt.figure(figsize=(8,8))\n",
    "\n",
    "plt.pie(number_student_alcohol['count'], labels = None,labeldistance=None, autopct= make_autopct(number_student_walc['count']), startangle=90, pctdistance = 1.05)\n",
    "\n",
    "plt.title(\"Percentage of Number in each using alcohol level\", fontdict={'size':15})\n",
    "\n",
    "plt.legend([2,3,4,5,6,7,8,9,10])\n",
    "\n",
    "plt.tight_layout()\n",
    "\n",
    "plt.show()"
   ]
  },
  {
   "cell_type": "code",
   "execution_count": null,
   "id": "d3fce6ba",
   "metadata": {
    "scrolled": false
   },
   "outputs": [],
   "source": [
    "mean_each_group_alcohol = nume_df.groupby([\"number_day_alcohol\"]).mean().reset_index()\n",
    "\n",
    "fig, axes = plt.subplots(4,4,figsize=(20,18))\n",
    "\n",
    "for i, ax in zip(range(16), axes.flat):\n",
    "    mean_each_group_alcohol.plot.bar(x=\"number_day_alcohol\", y=numerical_data[i], ax=ax, color=sns.color_palette())\n",
    "    ax.tick_params(axis='both', which='major', labelsize=15)\n",
    "    ax.set_title(numerical_data[i], color=\"red\", fontsize=14)\n",
    "plt.tight_layout(pad=1)\n",
    "plt.show()\n"
   ]
  },
  {
   "cell_type": "markdown",
   "id": "2cf86ee9",
   "metadata": {},
   "source": [
    "**Nhận xét:**\n",
    "- Phần lớn các học sinh dùng rượu có độ tuổi trung bình từ 16-17 tuổi\n",
    "- Các sinh viên có mức độ dùng rượu cao (>=5) đều có thời gian di chuyển từ nhà đến trường lớn hơn 15p. Có thể thấy rằng các sinh viên có khoảng cách xa đến trường sẽ dùng nhiều rượu hơn\n",
    "- Các sinh viên có mức độ dùng rượu cao (>=6) có thời gian đi cùng bạn bè (goout) ở mức cao (mức đô trên dưới 4)\n",
    "- Những sinh viên dùng rượu đều có nhiều thời gian rảnh (mức độ trên dưới 4)\n",
    "- Trình độ học vẫn của người bố có thể ảnh hưởng đến mức độ sử dụng rượu của sinh viên. Khi ta thấy các sinh viên có mức dùng rượu từ (8-10), có trình độ học vấn của bố ở mức thấp hơn hẳn so với các nhóm khác\n"
   ]
  },
  {
   "cell_type": "markdown",
   "id": "3179b9fe",
   "metadata": {},
   "source": [
    "### Giới tính và mức độ sử dụng rượu bia"
   ]
  },
  {
   "cell_type": "code",
   "execution_count": null,
   "id": "039d1c97",
   "metadata": {},
   "outputs": [],
   "source": [
    "sns.kdeplot(x=data[\"Walc\"], hue=data[\"sex\"])\n",
    "plt.show()"
   ]
  },
  {
   "cell_type": "code",
   "execution_count": null,
   "id": "322983a7",
   "metadata": {},
   "outputs": [],
   "source": [
    "g = sns.FacetGrid(data, col='Walc', hue=\"sex\")\n",
    "g.map(sns.kdeplot, \"goout\",alpha=.7)\n",
    "plt.figure(figsize=(15,7))\n",
    "g.add_legend()\n",
    "plt.show()"
   ]
  },
  {
   "cell_type": "code",
   "execution_count": null,
   "id": "4522b601",
   "metadata": {},
   "outputs": [],
   "source": [
    "g = sns.FacetGrid(data, col='Walc', hue=\"sex\")\n",
    "g.map(sns.kdeplot, \"G3\",alpha=.7)\n",
    "plt.figure(figsize=(15,7))\n",
    "g.add_legend()\n",
    "plt.show()"
   ]
  },
  {
   "cell_type": "markdown",
   "id": "a2ca04cd",
   "metadata": {},
   "source": [
    "**Nhận xét:**\n",
    "- Sinh viên nữ có tỉ lệ sử dụng rượu, bia cao hơn các sinh viên nam. Nhưng ở nhóm sử dụng mức độ cao (4-5), các tỉ lệ các sinh viên nam cao hơn\n",
    "- Trong nhóm Walc=5, các sinh viên nữ có thời gian bên ngoài cao hơn hẳn các nhóm còn lại và cao hơn các sinh viên nam. Có thể thấy rằng, việc có nhiều thời gian bên ngoài có thể làm gia tăng việc sử dụng rượu, bia ở các sinh viên nữ\n",
    "- Điểm số của cả nhóm sinh viên nam và nữ, càng gần phân phối chuẩn với trung bình bằng 10 khi mà việc sử dụng rượu, bia càng thường xuyên"
   ]
  },
  {
   "cell_type": "code",
   "execution_count": null,
   "id": "55ca4926",
   "metadata": {
    "scrolled": false
   },
   "outputs": [],
   "source": [
    "math_g3 = data[data[\"G3\"]>=15]\n",
    "i=1\n",
    "plt.figure(figsize =(15,35))\n",
    "for col in numerical_data:\n",
    "    plt.subplot(6,3,i)\n",
    "    sns.boxplot(x =col, y = 'Walc', hue = 'sex', data = math_g3)\n",
    "    plt.title('Weekend alco Vs '+ col)\n",
    "    i = 1+i"
   ]
  },
  {
   "cell_type": "code",
   "execution_count": null,
   "id": "214648d5",
   "metadata": {
    "scrolled": false
   },
   "outputs": [],
   "source": [
    "math_g3 = data[data[\"G3\"]>=15]\n",
    "i=1\n",
    "plt.figure(figsize =(15,35))\n",
    "for col in categorical_data:\n",
    "    plt.subplot(6,3,i)\n",
    "    sns.boxplot(x =col, y = 'Walc', hue = 'sex', data = math_g3)\n",
    "    plt.title('Weekend alco Vs '+ col)\n",
    "    i = 1+i"
   ]
  },
  {
   "cell_type": "code",
   "execution_count": null,
   "id": "46c9109b",
   "metadata": {
    "scrolled": false
   },
   "outputs": [],
   "source": [
    "#Truc quan nhom diem nho hon 15 voi du lieu numerical\n",
    "math_g3 = data[data[\"G3\"]<15]\n",
    "i=1\n",
    "plt.figure(figsize =(15,35))\n",
    "for col in numerical_data:\n",
    "    plt.subplot(6,3,i)\n",
    "    sns.boxplot(x =col, y = 'Walc', hue = 'sex', data = math_g3)\n",
    "    plt.title('Weekend alco Vs '+ col)\n",
    "    i = 1+i"
   ]
  },
  {
   "cell_type": "code",
   "execution_count": null,
   "id": "4f7b482f",
   "metadata": {
    "scrolled": false
   },
   "outputs": [],
   "source": [
    "#Truc quan nhom diem nho hon 15 voi du lieu category\n",
    "math_g3 = data[data[\"G3\"]<15]\n",
    "i=1\n",
    "plt.figure(figsize =(15,35))\n",
    "for col in categorical_data:\n",
    "    plt.subplot(6,3,i)\n",
    "    sns.boxplot(x =col, y = 'Walc', hue = 'sex', data = math_g3)\n",
    "    plt.title('Weekend alco Vs '+ col)\n",
    "    i = 1+i"
   ]
  },
  {
   "cell_type": "markdown",
   "id": "3c052a36",
   "metadata": {},
   "source": [
    "**Nhận xét:**\n",
    "- Ở nhóm các sinh viên nam có điểm dưới 15, khi số mức độ goout cao thì các sinh viên có xu hướng dùng rượu nhiều hơn (giá trị trung bình, và phân vị đều tăng). Ngược lại ở nhóm sinh viên nữ, giá trị trung bình và phân vị không chênh lệch nhiều, cho thấy mức độ goout không ảnh hưởng nhiều lên nhóm sinh viên nữ\n",
    "- Các sinh viên có điểm thấp thường mắc nhiều lỗi hơn các sinh viên có điểm cao, và tỉ lệ này gia tăng khi mức độ dùng cồn tăng. Điều này cho thấy dùng rượu ảnh hưởng xấu đến cuộc sống của các sinh viên\n",
    "- Các sinh viên mong muốn học tiếp ở bậc giáo dục, đều có mức độ sử dụng rượu thấp. Các sinh viên không có nguyện vọng học tiếp lên cao, có xu hướng sử dụng rượu bia nhiều đặc biệt ở nam giới\n",
    "- Nhìn chung, các sinh viên nữ có mức sử dụng rượu bia thấp (phần lớn 1-3), các sinh viên nam có mức dao động cao hơn\n"
   ]
  },
  {
   "cell_type": "code",
   "execution_count": null,
   "id": "bd4dfe63",
   "metadata": {},
   "outputs": [],
   "source": []
  }
 ],
 "metadata": {
  "kernelspec": {
   "display_name": "Python 3 (ipykernel)",
   "language": "python",
   "name": "python3"
  },
  "language_info": {
   "codemirror_mode": {
    "name": "ipython",
    "version": 3
   },
   "file_extension": ".py",
   "mimetype": "text/x-python",
   "name": "python",
   "nbconvert_exporter": "python",
   "pygments_lexer": "ipython3",
   "version": "3.10.4"
  }
 },
 "nbformat": 4,
 "nbformat_minor": 5
}
